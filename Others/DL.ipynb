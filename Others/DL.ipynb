{
 "cells": [
  {
   "cell_type": "code",
   "execution_count": 1,
   "id": "4743bb86",
   "metadata": {},
   "outputs": [],
   "source": [
    "import pandas as pd\n",
    "import numpy as np\n",
    "import matplotlib.pyplot as plt\n",
    "import seaborn as sns\n",
    "%matplotlib inline\n",
    "\n",
    "from sklearn.model_selection import train_test_split\n",
    "from sklearn.preprocessing import StandardScaler\n",
    "from sklearn.metrics import accuracy_score, confusion_matrix\n",
    "from tensorflow.keras.models import Sequential\n",
    "from tensorflow.keras.layers import Dense\n",
    "from sklearn.preprocessing import StandardScaler, OneHotEncoder\n",
    "from sklearn.compose import ColumnTransformer\n",
    "from sklearn.pipeline import Pipeline\n",
    "from imblearn.over_sampling import RandomOverSampler"
   ]
  },
  {
   "cell_type": "markdown",
   "id": "ea6b53d1",
   "metadata": {},
   "source": [
    "### Importing dataset"
   ]
  },
  {
   "cell_type": "code",
   "execution_count": 2,
   "id": "e4b6bcd3",
   "metadata": {},
   "outputs": [
    {
     "data": {
      "text/html": [
       "<div>\n",
       "<style scoped>\n",
       "    .dataframe tbody tr th:only-of-type {\n",
       "        vertical-align: middle;\n",
       "    }\n",
       "\n",
       "    .dataframe tbody tr th {\n",
       "        vertical-align: top;\n",
       "    }\n",
       "\n",
       "    .dataframe thead th {\n",
       "        text-align: right;\n",
       "    }\n",
       "</style>\n",
       "<table border=\"1\" class=\"dataframe\">\n",
       "  <thead>\n",
       "    <tr style=\"text-align: right;\">\n",
       "      <th></th>\n",
       "      <th>claim_number</th>\n",
       "      <th>age_of_driver</th>\n",
       "      <th>gender</th>\n",
       "      <th>marital_status</th>\n",
       "      <th>safty_rating</th>\n",
       "      <th>annual_income</th>\n",
       "      <th>high_education_ind</th>\n",
       "      <th>address_change_ind</th>\n",
       "      <th>living_status</th>\n",
       "      <th>zip_code</th>\n",
       "      <th>...</th>\n",
       "      <th>liab_prct</th>\n",
       "      <th>channel</th>\n",
       "      <th>policy_report_filed_ind</th>\n",
       "      <th>claim_est_payout</th>\n",
       "      <th>age_of_vehicle</th>\n",
       "      <th>vehicle_category</th>\n",
       "      <th>vehicle_price</th>\n",
       "      <th>vehicle_color</th>\n",
       "      <th>vehicle_weight</th>\n",
       "      <th>fraud</th>\n",
       "    </tr>\n",
       "  </thead>\n",
       "  <tbody>\n",
       "    <tr>\n",
       "      <th>0</th>\n",
       "      <td>1</td>\n",
       "      <td>46</td>\n",
       "      <td>M</td>\n",
       "      <td>1.0</td>\n",
       "      <td>85</td>\n",
       "      <td>38301</td>\n",
       "      <td>1</td>\n",
       "      <td>1</td>\n",
       "      <td>Rent</td>\n",
       "      <td>80006</td>\n",
       "      <td>...</td>\n",
       "      <td>74</td>\n",
       "      <td>Broker</td>\n",
       "      <td>0</td>\n",
       "      <td>7530.940993</td>\n",
       "      <td>9.0</td>\n",
       "      <td>Compact</td>\n",
       "      <td>12885.45235</td>\n",
       "      <td>white</td>\n",
       "      <td>16161.33381</td>\n",
       "      <td>0</td>\n",
       "    </tr>\n",
       "    <tr>\n",
       "      <th>1</th>\n",
       "      <td>3</td>\n",
       "      <td>21</td>\n",
       "      <td>F</td>\n",
       "      <td>0.0</td>\n",
       "      <td>75</td>\n",
       "      <td>30445</td>\n",
       "      <td>0</td>\n",
       "      <td>1</td>\n",
       "      <td>Rent</td>\n",
       "      <td>15021</td>\n",
       "      <td>...</td>\n",
       "      <td>79</td>\n",
       "      <td>Online</td>\n",
       "      <td>0</td>\n",
       "      <td>2966.024895</td>\n",
       "      <td>4.0</td>\n",
       "      <td>Large</td>\n",
       "      <td>29429.45218</td>\n",
       "      <td>white</td>\n",
       "      <td>28691.96422</td>\n",
       "      <td>0</td>\n",
       "    </tr>\n",
       "    <tr>\n",
       "      <th>2</th>\n",
       "      <td>4</td>\n",
       "      <td>49</td>\n",
       "      <td>F</td>\n",
       "      <td>0.0</td>\n",
       "      <td>87</td>\n",
       "      <td>38923</td>\n",
       "      <td>0</td>\n",
       "      <td>1</td>\n",
       "      <td>Own</td>\n",
       "      <td>20158</td>\n",
       "      <td>...</td>\n",
       "      <td>0</td>\n",
       "      <td>Broker</td>\n",
       "      <td>0</td>\n",
       "      <td>6283.888333</td>\n",
       "      <td>3.0</td>\n",
       "      <td>Compact</td>\n",
       "      <td>21701.18195</td>\n",
       "      <td>white</td>\n",
       "      <td>22090.94758</td>\n",
       "      <td>1</td>\n",
       "    </tr>\n",
       "    <tr>\n",
       "      <th>3</th>\n",
       "      <td>5</td>\n",
       "      <td>58</td>\n",
       "      <td>F</td>\n",
       "      <td>1.0</td>\n",
       "      <td>58</td>\n",
       "      <td>40605</td>\n",
       "      <td>1</td>\n",
       "      <td>0</td>\n",
       "      <td>Own</td>\n",
       "      <td>15024</td>\n",
       "      <td>...</td>\n",
       "      <td>99</td>\n",
       "      <td>Broker</td>\n",
       "      <td>1</td>\n",
       "      <td>6169.747994</td>\n",
       "      <td>4.0</td>\n",
       "      <td>Medium</td>\n",
       "      <td>13198.27344</td>\n",
       "      <td>other</td>\n",
       "      <td>38329.58106</td>\n",
       "      <td>1</td>\n",
       "    </tr>\n",
       "    <tr>\n",
       "      <th>4</th>\n",
       "      <td>6</td>\n",
       "      <td>38</td>\n",
       "      <td>M</td>\n",
       "      <td>1.0</td>\n",
       "      <td>95</td>\n",
       "      <td>36380</td>\n",
       "      <td>1</td>\n",
       "      <td>0</td>\n",
       "      <td>Rent</td>\n",
       "      <td>50034</td>\n",
       "      <td>...</td>\n",
       "      <td>7</td>\n",
       "      <td>Broker</td>\n",
       "      <td>0</td>\n",
       "      <td>4541.387150</td>\n",
       "      <td>7.0</td>\n",
       "      <td>Medium</td>\n",
       "      <td>38060.21122</td>\n",
       "      <td>gray</td>\n",
       "      <td>25876.56319</td>\n",
       "      <td>0</td>\n",
       "    </tr>\n",
       "  </tbody>\n",
       "</table>\n",
       "<p>5 rows × 25 columns</p>\n",
       "</div>"
      ],
      "text/plain": [
       "   claim_number  age_of_driver gender  marital_status  safty_rating  \\\n",
       "0             1             46      M             1.0            85   \n",
       "1             3             21      F             0.0            75   \n",
       "2             4             49      F             0.0            87   \n",
       "3             5             58      F             1.0            58   \n",
       "4             6             38      M             1.0            95   \n",
       "\n",
       "   annual_income  high_education_ind  address_change_ind living_status  \\\n",
       "0          38301                   1                   1          Rent   \n",
       "1          30445                   0                   1          Rent   \n",
       "2          38923                   0                   1           Own   \n",
       "3          40605                   1                   0           Own   \n",
       "4          36380                   1                   0          Rent   \n",
       "\n",
       "   zip_code  ... liab_prct channel policy_report_filed_ind  claim_est_payout  \\\n",
       "0     80006  ...        74  Broker                       0       7530.940993   \n",
       "1     15021  ...        79  Online                       0       2966.024895   \n",
       "2     20158  ...         0  Broker                       0       6283.888333   \n",
       "3     15024  ...        99  Broker                       1       6169.747994   \n",
       "4     50034  ...         7  Broker                       0       4541.387150   \n",
       "\n",
       "   age_of_vehicle  vehicle_category vehicle_price  vehicle_color  \\\n",
       "0             9.0           Compact   12885.45235          white   \n",
       "1             4.0             Large   29429.45218          white   \n",
       "2             3.0           Compact   21701.18195          white   \n",
       "3             4.0            Medium   13198.27344          other   \n",
       "4             7.0            Medium   38060.21122           gray   \n",
       "\n",
       "   vehicle_weight  fraud  \n",
       "0     16161.33381      0  \n",
       "1     28691.96422      0  \n",
       "2     22090.94758      1  \n",
       "3     38329.58106      1  \n",
       "4     25876.56319      0  \n",
       "\n",
       "[5 rows x 25 columns]"
      ]
     },
     "execution_count": 2,
     "metadata": {},
     "output_type": "execute_result"
    }
   ],
   "source": [
    "df = pd.read_csv(r'C:\\Users\\sidde\\OneDrive\\Documents\\Dissertation\\Final\\Data_source\\Insurance data.csv')\n",
    "\n",
    "\n",
    "df.head()"
   ]
  },
  {
   "cell_type": "markdown",
   "id": "d4f98fa7",
   "metadata": {},
   "source": [
    "### EDA\n"
   ]
  },
  {
   "cell_type": "markdown",
   "id": "de57d426",
   "metadata": {},
   "source": [
    "#### 1. Handling missing values\n",
    "\n"
   ]
  },
  {
   "cell_type": "code",
   "execution_count": 3,
   "id": "a0ba928e",
   "metadata": {},
   "outputs": [
    {
     "data": {
      "text/plain": [
       "claim_number                 0\n",
       "age_of_driver                0\n",
       "gender                       0\n",
       "marital_status               5\n",
       "safty_rating                 0\n",
       "annual_income                0\n",
       "high_education_ind           0\n",
       "address_change_ind           0\n",
       "living_status                0\n",
       "zip_code                     0\n",
       "claim_date                   0\n",
       "claim_day_of_week            0\n",
       "accident_site                0\n",
       "past_num_of_claims           0\n",
       "witness_present_ind        132\n",
       "liab_prct                    0\n",
       "channel                      0\n",
       "policy_report_filed_ind      0\n",
       "claim_est_payout            17\n",
       "age_of_vehicle               8\n",
       "vehicle_category             0\n",
       "vehicle_price                0\n",
       "vehicle_color                0\n",
       "vehicle_weight               0\n",
       "fraud                        0\n",
       "dtype: int64"
      ]
     },
     "execution_count": 3,
     "metadata": {},
     "output_type": "execute_result"
    }
   ],
   "source": [
    "df.isna().sum()"
   ]
  },
  {
   "cell_type": "code",
   "execution_count": 4,
   "id": "307bcb22",
   "metadata": {},
   "outputs": [],
   "source": [
    "# Replace NaN values with 0's for marital_status,witness_present_ind as it has binary values\n",
    "df['marital_status'].fillna(0, inplace=True)\n",
    "df['witness_present_ind'].fillna(0, inplace=True)\n",
    "\n",
    "# Replace NaN values with mean values for claim_est_payout,age_of_vehicle as it has continuous values\n",
    "df['claim_est_payout'].fillna(df['claim_est_payout'].median(), inplace=True)\n",
    "df['age_of_vehicle'].fillna(df['age_of_vehicle'].median(), inplace=True)\n",
    "\n"
   ]
  },
  {
   "cell_type": "markdown",
   "id": "d47ad8e1",
   "metadata": {},
   "source": [
    "#### Cleaning independent variables"
   ]
  },
  {
   "cell_type": "code",
   "execution_count": 5,
   "id": "83a6bd48",
   "metadata": {},
   "outputs": [],
   "source": [
    "median_age = df['age_of_driver'].median()\n",
    "# Replace ages greater than 100 with the median age\n",
    "df['age_of_driver'] = np.where(df['age_of_driver'] > 100, median_age, df['age_of_driver'])\n",
    "\n",
    "\n",
    "median_income = df['annual_income'].median()\n",
    "# Replace ages greater than 100 with the median age\n",
    "df['annual_income'] = np.where(df['annual_income'] < 0, median_income, df['annual_income'])"
   ]
  },
  {
   "cell_type": "code",
   "execution_count": 6,
   "id": "bb001331",
   "metadata": {},
   "outputs": [
    {
     "data": {
      "text/plain": [
       "0        38301.0\n",
       "1        30445.0\n",
       "2        38923.0\n",
       "3        40605.0\n",
       "4        36380.0\n",
       "          ...   \n",
       "17993    42338.0\n",
       "17994    35579.0\n",
       "17995    32953.0\n",
       "17996    39519.0\n",
       "17997    41126.0\n",
       "Name: annual_income, Length: 17998, dtype: float64"
      ]
     },
     "execution_count": 6,
     "metadata": {},
     "output_type": "execute_result"
    }
   ],
   "source": [
    "df['annual_income']"
   ]
  },
  {
   "cell_type": "markdown",
   "id": "dbb592ec",
   "metadata": {},
   "source": [
    "#### 2. Cleaning target variable"
   ]
  },
  {
   "cell_type": "code",
   "execution_count": 7,
   "id": "49eb89a9",
   "metadata": {},
   "outputs": [
    {
     "data": {
      "text/plain": [
       "fraud\n",
       " 0    15179\n",
       " 1     2816\n",
       "-1        3\n",
       "Name: count, dtype: int64"
      ]
     },
     "execution_count": 7,
     "metadata": {},
     "output_type": "execute_result"
    }
   ],
   "source": [
    "# Checking the target variable\n",
    "df[\"fraud\"].value_counts()\n"
   ]
  },
  {
   "cell_type": "code",
   "execution_count": 8,
   "id": "b8bd2b1b",
   "metadata": {},
   "outputs": [],
   "source": [
    "# Target variable fraud has -1,0,1 values where it can have only 0's and 1's. So dropping the outliers\n",
    "df = df[df[\"fraud\"] != -1]"
   ]
  },
  {
   "cell_type": "markdown",
   "id": "e2de4112",
   "metadata": {},
   "source": [
    "#### 3. Handling temporal values\n"
   ]
  },
  {
   "cell_type": "code",
   "execution_count": 9,
   "id": "127773d8",
   "metadata": {},
   "outputs": [],
   "source": [
    "# Convert the 'Date' column to a datetime object\n",
    "df['claim_date'] = pd.to_datetime(df['claim_date'])\n",
    "# Extract the year and create a new 'Year' column\n",
    "df['Claim_Year'] = df['claim_date'].dt.year"
   ]
  },
  {
   "cell_type": "markdown",
   "id": "766be544",
   "metadata": {},
   "source": [
    "#### 4.Visualizing the target variable"
   ]
  },
  {
   "cell_type": "code",
   "execution_count": null,
   "id": "1fb45953",
   "metadata": {},
   "outputs": [],
   "source": [
    "ax = df['fraud'].value_counts().plot.bar(color='skyblue', edgecolor='black')\n",
    "# Adding data labels to the bars\n",
    "for p in ax.patches:\n",
    "    ax.annotate(str(p.get_height()), (p.get_x() + p.get_width() / 2., p.get_height()),\n",
    "                ha='center', va='center', xytext=(0, 10), textcoords='offset points')\n",
    "# Display the plot\n",
    "plt.title('Fraud Distribution')  \n",
    "plt.show()"
   ]
  },
  {
   "cell_type": "code",
   "execution_count": null,
   "id": "6edb4bcc",
   "metadata": {},
   "outputs": [],
   "source": [
    "age_bins = [18, 30, 40, 50, 60, 70, 100, 120]  # Define your age bins\n",
    "df['age_group'] = pd.cut(df['age_of_driver'], bins=age_bins, right=True, labels=[f'{age_bins[i-1]}-{age_bins[i]}' for i in range(1, len(age_bins))])\n",
    "\n",
    "# Count the number of fraud cases in each age group\n",
    "fraud_counts = df.groupby('age_group')['fraud'].sum()\n",
    "\n",
    "# Bar chart\n",
    "fraud_counts.plot(kind='bar', color='red')\n",
    "plt.title('Fraud Cases Distribution by Age Group')\n",
    "plt.xlabel('Age Group')\n",
    "plt.ylabel('Number of Fraud Cases')\n",
    "\n",
    "# Display the plot\n",
    "plt.show()\n",
    "\n",
    "# Drop the 'age_group' column if you no longer need it\n",
    "df.drop('age_group', axis=1, inplace=True)"
   ]
  },
  {
   "cell_type": "code",
   "execution_count": null,
   "id": "e6f9b17a",
   "metadata": {},
   "outputs": [],
   "source": [
    "age_bins = [3,6,9,12,15,18,21]  # Define your age bins\n",
    "df['Vechicle_age_group'] = pd.cut(df['age_of_vehicle'], bins=age_bins, right=True, labels=[f'{age_bins[i-1]}-{age_bins[i]}' for i in range(1, len(age_bins))])\n",
    "\n",
    "# Count the number of fraud cases in each age group\n",
    "fraud_counts = df.groupby('Vechicle_age_group')['fraud'].sum()\n",
    "\n",
    "# Bar chart\n",
    "fraud_counts.plot(kind='bar', color='blue')\n",
    "plt.title('Fraud Cases Distribution by Vehicle Age Group')\n",
    "plt.xlabel('Vehicle Age Group')\n",
    "plt.ylabel('Number of Fraud Cases')\n",
    "\n",
    "# Display the plot\n",
    "plt.show()\n",
    "\n",
    "# Drop the 'age_group' column if you no longer need it\n",
    "df.drop('Vechicle_age_group', axis=1, inplace=True)"
   ]
  },
  {
   "cell_type": "markdown",
   "id": "b4545ff4",
   "metadata": {},
   "source": [
    "#### 5. Visualizing insured's discrete/continuous data"
   ]
  },
  {
   "cell_type": "code",
   "execution_count": null,
   "id": "2689a281",
   "metadata": {},
   "outputs": [],
   "source": [
    "# Create a histogram or density plot\n",
    "for col in [\"age_of_driver\", \"safty_rating\"]:\n",
    "    sns.histplot(data=df, x=col, hue='fraud', bins=50, kde=True)\n",
    "    plt.title(f'{col}')\n",
    "    plt.show()"
   ]
  },
  {
   "cell_type": "markdown",
   "id": "ed85996a",
   "metadata": {},
   "source": [
    "#### 6. Visualizing insured's categorical data"
   ]
  },
  {
   "cell_type": "code",
   "execution_count": null,
   "id": "a3c5919e",
   "metadata": {},
   "outputs": [],
   "source": [
    "columns_of_interest = [\"gender\", \"marital_status\", \"high_education_ind\", \"address_change_ind\", \"living_status\"]\n",
    "\n",
    "for col2 in columns_of_interest:\n",
    "    sns.set_style('whitegrid')\n",
    "    plt.figure(figsize=(8, 5))  # Adjust the figure size as needed\n",
    "    \n",
    "    # Create count plot\n",
    "    ax = sns.countplot(x=col2, hue='fraud', data=df)\n",
    "    \n",
    "    # Add data labels to the bars\n",
    "    for p in ax.patches:\n",
    "        ax.annotate(f'{p.get_height()}', (p.get_x() + p.get_width() / 2., p.get_height()),\n",
    "                    ha='center', va='center', xytext=(0, 10), textcoords='offset points')\n",
    "    \n",
    "    plt.title(f'{col2}')\n",
    "    plt.show()"
   ]
  },
  {
   "cell_type": "markdown",
   "id": "c6464ba1",
   "metadata": {},
   "source": [
    "*Marital Status* and *high_education_ind* has almost same claim count pattern. In Feature engineering, we shall drop either one if required."
   ]
  },
  {
   "cell_type": "markdown",
   "id": "cd982e2c",
   "metadata": {},
   "source": [
    "#### 7. Year vs Claims"
   ]
  },
  {
   "cell_type": "code",
   "execution_count": null,
   "id": "a76479c7",
   "metadata": {},
   "outputs": [],
   "source": [
    "ax = sns.countplot(x='Claim_Year', hue='fraud', data=df, palette='RdYlGn')\n",
    "\n",
    "# Add data labels to the bars\n",
    "for p in ax.patches:\n",
    "    height = p.get_height()\n",
    "    ax.annotate(f'{height}', (p.get_x() + p.get_width() / 2., height),\n",
    "                ha='center', va='center', xytext=(0, 10), textcoords='offset points')\n",
    "\n",
    "# Display the count plot\n",
    "plt.title('Claim_Year by Claims')\n",
    "plt.show()"
   ]
  },
  {
   "cell_type": "markdown",
   "id": "1c6f5e0f",
   "metadata": {},
   "source": [
    "In 2016, the fraud count seemed to be increased in count compared to 2015"
   ]
  },
  {
   "cell_type": "markdown",
   "id": "b95cb80c",
   "metadata": {},
   "source": [
    "#### 8. Accident site vs Claims"
   ]
  },
  {
   "cell_type": "code",
   "execution_count": null,
   "id": "d26f88a6",
   "metadata": {},
   "outputs": [],
   "source": [
    "site_counts = df['accident_site'].value_counts()\n",
    "\n",
    "# Create a pie chart\n",
    "fig, ax = plt.subplots()\n",
    "ax.pie(site_counts, labels=site_counts.index, autopct='%1.1f%%', startangle=90, colors=['skyblue', 'lightcoral', 'lightgreen'])\n",
    "\n",
    "# Add data labels to the wedges\n",
    "for i, (label, count) in enumerate(zip(site_counts.index, site_counts)):\n",
    "    angle = sum(site_counts[:i]) + count / 2\n",
    "    x = 0.5 * (1.2 * (angle > 180) - 1)\n",
    "    y = 1.2 * angle % 180\n",
    "    ax.annotate(f'{count}', (x, y), xytext=(1.35 * x, 1.35 * y), ha='center', va='center')\n",
    "\n",
    "# Set aspect ratio to be equal, ensuring the pie chart is circular\n",
    "ax.axis('equal')\n",
    "\n",
    "# Display the pie chart\n",
    "plt.title('Accident Site Distribution')\n",
    "plt.show()"
   ]
  },
  {
   "cell_type": "code",
   "execution_count": null,
   "id": "f1faac40",
   "metadata": {},
   "outputs": [],
   "source": [
    "custom_palette = ['skyblue', 'lightcoral']\n",
    "sns.countplot(x='accident_site', hue='fraud', data=df, palette=custom_palette)"
   ]
  },
  {
   "cell_type": "markdown",
   "id": "07f62612",
   "metadata": {},
   "source": [
    "Accident site LOCAL has the higesht number of claims and highest fraud reported"
   ]
  },
  {
   "cell_type": "code",
   "execution_count": null,
   "id": "5e87d835",
   "metadata": {},
   "outputs": [],
   "source": [
    "custom_palette = ['skyblue', 'lightcoral']\n",
    "sns.countplot(x='channel', hue='fraud', data=df, palette=custom_palette)"
   ]
  },
  {
   "cell_type": "code",
   "execution_count": null,
   "id": "b7fc6baa",
   "metadata": {},
   "outputs": [],
   "source": [
    "\n",
    "# Violin plot for 'accident_site' and 'claim_est_payout'\n",
    "sns.violinplot(x='accident_site', y='claim_est_payout', hue='fraud', data=df, split=True)\n",
    "plt.title('Accident Site vs. Claim Est Payout')\n",
    "plt.show()\n"
   ]
  },
  {
   "cell_type": "markdown",
   "id": "e2eaf165",
   "metadata": {},
   "source": [
    "#### 9. Claim Estimation Payout for Fraud and Non-Fraud Cases \n"
   ]
  },
  {
   "cell_type": "code",
   "execution_count": null,
   "id": "d77a20b9",
   "metadata": {},
   "outputs": [],
   "source": [
    "# Box plot of claim_est_payout\n",
    "plt.figure(figsize=(10, 6))\n",
    "ax = sns.boxplot(x='fraud', y='claim_est_payout', data=df)\n",
    "plt.title('Boxplot of Claim Estimation Payout for Fraud and Non-Fraud Cases')\n",
    "\n",
    "# Adding data labels\n",
    "for i, box in enumerate(ax.artists):\n",
    "    box_value = df[df['fraud'] == i]['claim_est_payout']\n",
    "    ax.text(i, box_value.median(), f'Median: {box_value.median():.2f}', verticalalignment='center', \n",
    "            fontdict={'color': 'white', 'weight': 'bold'})\n",
    "\n",
    "plt.show()"
   ]
  },
  {
   "cell_type": "markdown",
   "id": "9f911992",
   "metadata": {},
   "source": [
    "#### 10. Living status vs Claim Est Payout"
   ]
  },
  {
   "cell_type": "code",
   "execution_count": null,
   "id": "10eea2e2",
   "metadata": {},
   "outputs": [],
   "source": [
    "# Violin plot for 'living_status' and 'claim_est_payout'\n",
    "sns.violinplot(x='living_status', y='claim_est_payout', hue='fraud', data=df, split=True)\n",
    "plt.title('Living Status vs. Claim Est Payout')\n",
    "plt.show()"
   ]
  },
  {
   "cell_type": "code",
   "execution_count": null,
   "id": "9929e906",
   "metadata": {},
   "outputs": [],
   "source": [
    "# Relationship between 'age_of_driver' and 'claim_est_payout'\n",
    "sns.scatterplot(x='age_of_driver', y='claim_est_payout', hue='fraud', data=df)\n",
    "plt.title('Age of Driver vs. Claim Est Payout')\n",
    "plt.show()\n",
    "\n",
    "# Relationship between 'annual_income' and 'claim_est_payout'\n",
    "sns.scatterplot(x='annual_income', y='claim_est_payout', hue='fraud', data=df)\n",
    "plt.title('Annual Income vs. Claim Est Payout')\n",
    "plt.show()\n",
    "\n"
   ]
  },
  {
   "cell_type": "code",
   "execution_count": null,
   "id": "a5c930ed",
   "metadata": {},
   "outputs": [],
   "source": []
  },
  {
   "cell_type": "markdown",
   "id": "a707be5a",
   "metadata": {},
   "source": [
    "### Feature Engineering"
   ]
  },
  {
   "cell_type": "code",
   "execution_count": 10,
   "id": "efe2cb51",
   "metadata": {},
   "outputs": [],
   "source": [
    "#Zip code & claim_date is dropped as its not useful for classification\n",
    "df = df.drop('claim_date', axis=1)\n",
    "#Instead of claim_date, Claim_Year will be suitable.\n",
    "df = df.drop('zip_code', axis=1)\n",
    "\n",
    "df = df.drop('claim_number', axis=1)\n",
    "#Claim Number is a unique column, hence removed."
   ]
  },
  {
   "cell_type": "markdown",
   "id": "1a50d8e1",
   "metadata": {},
   "source": [
    "#### DEEP LEARNING"
   ]
  },
  {
   "cell_type": "code",
   "execution_count": 11,
   "id": "0165c931",
   "metadata": {},
   "outputs": [],
   "source": [
    "numerical_features=[feature for feature in df.columns if df[feature].dtype!='O']"
   ]
  },
  {
   "cell_type": "code",
   "execution_count": 12,
   "id": "9192b4af",
   "metadata": {},
   "outputs": [],
   "source": [
    "from sklearn.preprocessing import MinMaxScaler\n",
    "scaler = MinMaxScaler()\n",
    "\n",
    "# Extract numerical columns (you might need to adapt this based on your DataFrame structure)\n",
    "numerical_features = df.select_dtypes(include=['float64', 'int64']).columns\n",
    "\n",
    "# Apply Min-Max scaling to the numerical columns\n",
    "df[numerical_features] = scaler.fit_transform(df[numerical_features])"
   ]
  },
  {
   "cell_type": "code",
   "execution_count": 13,
   "id": "caeb59bd",
   "metadata": {},
   "outputs": [
    {
     "name": "stdout",
     "output_type": "stream",
     "text": [
      "gender : 2 labels\n",
      "living_status : 2 labels\n",
      "claim_day_of_week : 7 labels\n",
      "accident_site : 3 labels\n",
      "channel : 3 labels\n",
      "vehicle_category : 3 labels\n",
      "vehicle_color : 7 labels\n"
     ]
    }
   ],
   "source": [
    "categorical_features=[feature for feature in df.columns if df[feature].dtype=='O']\n",
    "\n",
    "for feature in categorical_features[:]:\n",
    "    print(feature,\":\",len(df[feature].unique()),'labels')"
   ]
  },
  {
   "cell_type": "code",
   "execution_count": 14,
   "id": "46e42347",
   "metadata": {},
   "outputs": [],
   "source": [
    "dictionary={'Monday':1,'Tuesday':2,'Wednesday':3,'Thursday':4,'Friday':5,'Saturday':6,'Sunday':7}\n",
    "\n",
    "#Encodes all the day names to assigned numbers\n",
    "df['claim_day_of_week']=df['claim_day_of_week'].map(dictionary)"
   ]
  },
  {
   "cell_type": "code",
   "execution_count": 15,
   "id": "2e06167a",
   "metadata": {},
   "outputs": [],
   "source": [
    "Map = df['vehicle_color'].value_counts().to_dict()\n",
    "\n",
    "#Mapping the respective value counts to the colors\n",
    "df['vehicle_color']=df['vehicle_color'].map(Map)\n"
   ]
  },
  {
   "cell_type": "code",
   "execution_count": 16,
   "id": "6e7fde9d",
   "metadata": {},
   "outputs": [],
   "source": [
    "# Create dummy columns\n",
    "accident_site_dummies = pd.get_dummies(df['accident_site'], drop_first=True)\n",
    "channel_dummies = pd.get_dummies(df['channel'], drop_first=True)\n",
    "vehicle_category_dummies = pd.get_dummies(df['vehicle_category'], drop_first=True)\n",
    "\n",
    "# Concatenate the dummy columns with the original DataFrame\n",
    "df = pd.concat([df, accident_site_dummies], axis=1)\n",
    "df = pd.concat([df, channel_dummies], axis=1)\n",
    "df = pd.concat([df, vehicle_category_dummies], axis=1)\n",
    "\n",
    "# Drop the original 'accident_site' column\n",
    "df = df.drop('accident_site', axis=1)\n",
    "df = df.drop('channel', axis=1)\n",
    "df = df.drop('vehicle_category', axis=1)"
   ]
  },
  {
   "cell_type": "code",
   "execution_count": 17,
   "id": "e5d252f3",
   "metadata": {},
   "outputs": [],
   "source": [
    "df['gender'] = df['gender'].map({'M': 1, 'F': 0})\n",
    "df['living_status'] = df['living_status'].map({'Rent': 1, 'Own': 0})\n"
   ]
  },
  {
   "cell_type": "code",
   "execution_count": 18,
   "id": "a0949d95",
   "metadata": {},
   "outputs": [
    {
     "name": "stdout",
     "output_type": "stream",
     "text": [
      "Training set shape: (12596, 25) (12596,)\n",
      "Testing set shape: (5399, 25) (5399,)\n"
     ]
    }
   ],
   "source": [
    "from sklearn.model_selection import train_test_split\n",
    "\n",
    "# Assume 'df' is your DataFrame with features and target variable\n",
    "# X should contain the features (independent variables), and y should contain the target variable (dependent variable)\n",
    "\n",
    "# Assuming 'fraud' is the target variable, and the rest are features\n",
    "X = df.drop('fraud', axis=1)\n",
    "y = df['fraud']\n",
    "\n",
    "# Split the data into training and testing sets\n",
    "# Adjust the 'test_size' parameter as needed (e.g., test_size=0.3 for an 70/30 split)\n",
    "X_train, X_test, y_train, y_test = train_test_split(X, y, test_size=0.3, random_state=42)\n",
    "\n",
    "# Display the shapes of the resulting sets\n",
    "print(\"Training set shape:\", X_train.shape, y_train.shape)\n",
    "print(\"Testing set shape:\", X_test.shape, y_test.shape)\n"
   ]
  },
  {
   "cell_type": "code",
   "execution_count": 75,
   "id": "f55f4597",
   "metadata": {},
   "outputs": [
    {
     "name": "stdout",
     "output_type": "stream",
     "text": [
      "Epoch 1/120\n",
      "83/83 [==============================] - 2s 8ms/step - loss: 0.6521 - accuracy: 0.6048 - val_loss: 0.6131 - val_accuracy: 0.6405\n",
      "Epoch 2/120\n",
      "83/83 [==============================] - 0s 4ms/step - loss: 0.6071 - accuracy: 0.6667 - val_loss: 0.6288 - val_accuracy: 0.6199\n",
      "Epoch 3/120\n",
      "83/83 [==============================] - 0s 4ms/step - loss: 0.5777 - accuracy: 0.6911 - val_loss: 0.5723 - val_accuracy: 0.6723\n",
      "Epoch 4/120\n",
      "83/83 [==============================] - 1s 10ms/step - loss: 0.5558 - accuracy: 0.7096 - val_loss: 0.5624 - val_accuracy: 0.6873\n",
      "Epoch 5/120\n",
      "83/83 [==============================] - 0s 5ms/step - loss: 0.5351 - accuracy: 0.7239 - val_loss: 0.5936 - val_accuracy: 0.6555\n",
      "Epoch 6/120\n",
      "83/83 [==============================] - 0s 6ms/step - loss: 0.5189 - accuracy: 0.7396 - val_loss: 0.6228 - val_accuracy: 0.6331\n",
      "Epoch 7/120\n",
      "83/83 [==============================] - 0s 4ms/step - loss: 0.4997 - accuracy: 0.7530 - val_loss: 0.5981 - val_accuracy: 0.6660\n",
      "Epoch 8/120\n",
      "83/83 [==============================] - 0s 4ms/step - loss: 0.4856 - accuracy: 0.7647 - val_loss: 0.6093 - val_accuracy: 0.6605\n",
      "Epoch 9/120\n",
      "83/83 [==============================] - 0s 4ms/step - loss: 0.4686 - accuracy: 0.7765 - val_loss: 0.5769 - val_accuracy: 0.6888\n",
      "Epoch 10/120\n",
      "83/83 [==============================] - 0s 4ms/step - loss: 0.4578 - accuracy: 0.7843 - val_loss: 0.6400 - val_accuracy: 0.6410\n",
      "Epoch 11/120\n",
      "83/83 [==============================] - 0s 4ms/step - loss: 0.4437 - accuracy: 0.7976 - val_loss: 0.6126 - val_accuracy: 0.6779\n",
      "Epoch 12/120\n",
      "83/83 [==============================] - 0s 4ms/step - loss: 0.4320 - accuracy: 0.8016 - val_loss: 0.6332 - val_accuracy: 0.6618\n",
      "Epoch 13/120\n",
      "83/83 [==============================] - 0s 4ms/step - loss: 0.4205 - accuracy: 0.8103 - val_loss: 0.6336 - val_accuracy: 0.6696\n",
      "Epoch 14/120\n",
      "83/83 [==============================] - 0s 4ms/step - loss: 0.4108 - accuracy: 0.8156 - val_loss: 0.5775 - val_accuracy: 0.7199\n",
      "Epoch 15/120\n",
      "83/83 [==============================] - 0s 5ms/step - loss: 0.4033 - accuracy: 0.8210 - val_loss: 0.7034 - val_accuracy: 0.6473\n",
      "Epoch 16/120\n",
      "83/83 [==============================] - 0s 4ms/step - loss: 0.3922 - accuracy: 0.8269 - val_loss: 0.6270 - val_accuracy: 0.7011\n",
      "Epoch 17/120\n",
      "83/83 [==============================] - 1s 9ms/step - loss: 0.3820 - accuracy: 0.8322 - val_loss: 0.6409 - val_accuracy: 0.6885\n",
      "Epoch 18/120\n",
      "83/83 [==============================] - 1s 8ms/step - loss: 0.3748 - accuracy: 0.8358 - val_loss: 0.6354 - val_accuracy: 0.7020\n",
      "Epoch 19/120\n",
      "83/83 [==============================] - 0s 5ms/step - loss: 0.3681 - accuracy: 0.8403 - val_loss: 0.6473 - val_accuracy: 0.6968\n",
      "Epoch 20/120\n",
      "83/83 [==============================] - 1s 6ms/step - loss: 0.3576 - accuracy: 0.8483 - val_loss: 0.6315 - val_accuracy: 0.7122\n",
      "Epoch 21/120\n",
      "83/83 [==============================] - 0s 4ms/step - loss: 0.3532 - accuracy: 0.8483 - val_loss: 0.7196 - val_accuracy: 0.6618\n",
      "Epoch 22/120\n",
      "83/83 [==============================] - 0s 5ms/step - loss: 0.3433 - accuracy: 0.8541 - val_loss: 0.6321 - val_accuracy: 0.7231\n",
      "Epoch 23/120\n",
      "83/83 [==============================] - 0s 5ms/step - loss: 0.3347 - accuracy: 0.8604 - val_loss: 0.6346 - val_accuracy: 0.7287\n",
      "Epoch 24/120\n",
      "83/83 [==============================] - 0s 5ms/step - loss: 0.3286 - accuracy: 0.8635 - val_loss: 0.6866 - val_accuracy: 0.6968\n",
      "Epoch 25/120\n",
      "83/83 [==============================] - 0s 5ms/step - loss: 0.3225 - accuracy: 0.8663 - val_loss: 0.6817 - val_accuracy: 0.6946\n",
      "Epoch 26/120\n",
      "83/83 [==============================] - 0s 4ms/step - loss: 0.3141 - accuracy: 0.8709 - val_loss: 0.6867 - val_accuracy: 0.7140\n",
      "Epoch 27/120\n",
      "83/83 [==============================] - 0s 5ms/step - loss: 0.3072 - accuracy: 0.8750 - val_loss: 0.6721 - val_accuracy: 0.7235\n",
      "Epoch 28/120\n",
      "83/83 [==============================] - 1s 6ms/step - loss: 0.3032 - accuracy: 0.8765 - val_loss: 0.6919 - val_accuracy: 0.7205\n",
      "Epoch 29/120\n",
      "83/83 [==============================] - 0s 5ms/step - loss: 0.2972 - accuracy: 0.8787 - val_loss: 0.6786 - val_accuracy: 0.7342\n",
      "Epoch 30/120\n",
      "83/83 [==============================] - 1s 8ms/step - loss: 0.2889 - accuracy: 0.8842 - val_loss: 0.7539 - val_accuracy: 0.6864\n",
      "Epoch 31/120\n",
      "83/83 [==============================] - 1s 6ms/step - loss: 0.2850 - accuracy: 0.8866 - val_loss: 0.7681 - val_accuracy: 0.6807\n",
      "Epoch 32/120\n",
      "83/83 [==============================] - 0s 5ms/step - loss: 0.2792 - accuracy: 0.8893 - val_loss: 0.7209 - val_accuracy: 0.7166\n",
      "Epoch 33/120\n",
      "83/83 [==============================] - 0s 4ms/step - loss: 0.2737 - accuracy: 0.8933 - val_loss: 0.7087 - val_accuracy: 0.7364\n",
      "Epoch 34/120\n",
      "83/83 [==============================] - 0s 5ms/step - loss: 0.2664 - accuracy: 0.8948 - val_loss: 0.7625 - val_accuracy: 0.6988\n",
      "Epoch 35/120\n",
      "83/83 [==============================] - 1s 7ms/step - loss: 0.2618 - accuracy: 0.8975 - val_loss: 0.7253 - val_accuracy: 0.7298\n",
      "Epoch 36/120\n",
      "83/83 [==============================] - 1s 7ms/step - loss: 0.2553 - accuracy: 0.9015 - val_loss: 0.7608 - val_accuracy: 0.7109\n",
      "Epoch 37/120\n",
      "83/83 [==============================] - 1s 8ms/step - loss: 0.2529 - accuracy: 0.9019 - val_loss: 0.7602 - val_accuracy: 0.7114\n",
      "Epoch 38/120\n",
      "83/83 [==============================] - 0s 5ms/step - loss: 0.2467 - accuracy: 0.9069 - val_loss: 0.7722 - val_accuracy: 0.7107\n",
      "Epoch 39/120\n",
      "83/83 [==============================] - 0s 5ms/step - loss: 0.2438 - accuracy: 0.9063 - val_loss: 0.7346 - val_accuracy: 0.7474\n",
      "Epoch 40/120\n",
      "83/83 [==============================] - 1s 8ms/step - loss: 0.2376 - accuracy: 0.9094 - val_loss: 0.7750 - val_accuracy: 0.7209\n",
      "Epoch 41/120\n",
      "83/83 [==============================] - 1s 7ms/step - loss: 0.2324 - accuracy: 0.9128 - val_loss: 0.7795 - val_accuracy: 0.7235\n",
      "Epoch 42/120\n",
      "83/83 [==============================] - 0s 4ms/step - loss: 0.2291 - accuracy: 0.9146 - val_loss: 0.7621 - val_accuracy: 0.7498\n",
      "Epoch 43/120\n",
      "83/83 [==============================] - 0s 5ms/step - loss: 0.2247 - accuracy: 0.9161 - val_loss: 0.8003 - val_accuracy: 0.7196\n",
      "Epoch 44/120\n",
      "83/83 [==============================] - 0s 4ms/step - loss: 0.2234 - accuracy: 0.9154 - val_loss: 0.8009 - val_accuracy: 0.7281\n",
      "Epoch 45/120\n",
      "83/83 [==============================] - 0s 4ms/step - loss: 0.2211 - accuracy: 0.9156 - val_loss: 0.8117 - val_accuracy: 0.7222\n",
      "Epoch 46/120\n",
      "83/83 [==============================] - 0s 5ms/step - loss: 0.2108 - accuracy: 0.9231 - val_loss: 0.8011 - val_accuracy: 0.7396\n",
      "Epoch 47/120\n",
      "83/83 [==============================] - 0s 5ms/step - loss: 0.2101 - accuracy: 0.9206 - val_loss: 0.8330 - val_accuracy: 0.7209\n",
      "Epoch 48/120\n",
      "83/83 [==============================] - 0s 4ms/step - loss: 0.2060 - accuracy: 0.9251 - val_loss: 0.8152 - val_accuracy: 0.7457\n",
      "Epoch 49/120\n",
      "83/83 [==============================] - 0s 5ms/step - loss: 0.2025 - accuracy: 0.9257 - val_loss: 0.8568 - val_accuracy: 0.7231\n",
      "Epoch 50/120\n",
      "83/83 [==============================] - 0s 6ms/step - loss: 0.1969 - accuracy: 0.9282 - val_loss: 0.8476 - val_accuracy: 0.7318\n",
      "Epoch 51/120\n",
      "83/83 [==============================] - 0s 5ms/step - loss: 0.1940 - accuracy: 0.9301 - val_loss: 0.8402 - val_accuracy: 0.7390\n",
      "Epoch 52/120\n",
      "83/83 [==============================] - 1s 10ms/step - loss: 0.1912 - accuracy: 0.9312 - val_loss: 0.9071 - val_accuracy: 0.7024\n",
      "Epoch 53/120\n",
      "83/83 [==============================] - 0s 5ms/step - loss: 0.1877 - accuracy: 0.9315 - val_loss: 0.9005 - val_accuracy: 0.7162\n",
      "Epoch 54/120\n",
      "83/83 [==============================] - 0s 6ms/step - loss: 0.1861 - accuracy: 0.9324 - val_loss: 0.8803 - val_accuracy: 0.7318\n",
      "Epoch 55/120\n",
      "83/83 [==============================] - 1s 12ms/step - loss: 0.1802 - accuracy: 0.9362 - val_loss: 0.8627 - val_accuracy: 0.7453\n",
      "Epoch 56/120\n",
      "83/83 [==============================] - 1s 7ms/step - loss: 0.1745 - accuracy: 0.9389 - val_loss: 0.9221 - val_accuracy: 0.7166\n",
      "Epoch 57/120\n",
      "83/83 [==============================] - 1s 7ms/step - loss: 0.1725 - accuracy: 0.9393 - val_loss: 0.8810 - val_accuracy: 0.7477\n",
      "Epoch 58/120\n",
      "83/83 [==============================] - 1s 7ms/step - loss: 0.1699 - accuracy: 0.9405 - val_loss: 0.9024 - val_accuracy: 0.7453\n",
      "Epoch 59/120\n",
      "83/83 [==============================] - 1s 8ms/step - loss: 0.1672 - accuracy: 0.9421 - val_loss: 0.9105 - val_accuracy: 0.7362\n",
      "Epoch 60/120\n",
      "83/83 [==============================] - 1s 7ms/step - loss: 0.1637 - accuracy: 0.9449 - val_loss: 0.9615 - val_accuracy: 0.7225\n",
      "Epoch 61/120\n",
      "83/83 [==============================] - 1s 6ms/step - loss: 0.1599 - accuracy: 0.9448 - val_loss: 0.9632 - val_accuracy: 0.7237\n",
      "Epoch 62/120\n",
      "83/83 [==============================] - 1s 6ms/step - loss: 0.1563 - accuracy: 0.9460 - val_loss: 0.9361 - val_accuracy: 0.7440\n",
      "Epoch 63/120\n",
      "83/83 [==============================] - 1s 7ms/step - loss: 0.1539 - accuracy: 0.9473 - val_loss: 1.0017 - val_accuracy: 0.7096\n",
      "Epoch 64/120\n",
      "83/83 [==============================] - 1s 9ms/step - loss: 0.1513 - accuracy: 0.9482 - val_loss: 0.9536 - val_accuracy: 0.7411\n",
      "Epoch 65/120\n",
      "83/83 [==============================] - 1s 7ms/step - loss: 0.1519 - accuracy: 0.9472 - val_loss: 0.9430 - val_accuracy: 0.7605\n",
      "Epoch 66/120\n",
      "83/83 [==============================] - 1s 7ms/step - loss: 0.1475 - accuracy: 0.9494 - val_loss: 0.9981 - val_accuracy: 0.7324\n",
      "Epoch 67/120\n",
      "83/83 [==============================] - 1s 7ms/step - loss: 0.1456 - accuracy: 0.9506 - val_loss: 0.9646 - val_accuracy: 0.7568\n",
      "Epoch 68/120\n",
      "83/83 [==============================] - 1s 8ms/step - loss: 0.1422 - accuracy: 0.9517 - val_loss: 0.9746 - val_accuracy: 0.7507\n",
      "Epoch 69/120\n",
      "83/83 [==============================] - 1s 7ms/step - loss: 0.1381 - accuracy: 0.9558 - val_loss: 0.9976 - val_accuracy: 0.7490\n",
      "Epoch 70/120\n",
      "83/83 [==============================] - 1s 8ms/step - loss: 0.1351 - accuracy: 0.9557 - val_loss: 1.0064 - val_accuracy: 0.7535\n",
      "Epoch 71/120\n",
      "83/83 [==============================] - 1s 7ms/step - loss: 0.1327 - accuracy: 0.9577 - val_loss: 1.0255 - val_accuracy: 0.7403\n",
      "Epoch 72/120\n",
      "83/83 [==============================] - 1s 7ms/step - loss: 0.1316 - accuracy: 0.9565 - val_loss: 1.0348 - val_accuracy: 0.7387\n",
      "Epoch 73/120\n",
      "83/83 [==============================] - 1s 7ms/step - loss: 0.1286 - accuracy: 0.9579 - val_loss: 1.0524 - val_accuracy: 0.7359\n",
      "Epoch 74/120\n",
      "83/83 [==============================] - 1s 7ms/step - loss: 0.1264 - accuracy: 0.9590 - val_loss: 1.0493 - val_accuracy: 0.7425\n",
      "Epoch 75/120\n",
      "83/83 [==============================] - 1s 9ms/step - loss: 0.1229 - accuracy: 0.9606 - val_loss: 1.0604 - val_accuracy: 0.7479\n",
      "Epoch 76/120\n",
      "83/83 [==============================] - 1s 12ms/step - loss: 0.1239 - accuracy: 0.9597 - val_loss: 1.0531 - val_accuracy: 0.7492\n",
      "Epoch 77/120\n",
      "83/83 [==============================] - 1s 7ms/step - loss: 0.1182 - accuracy: 0.9626 - val_loss: 1.0786 - val_accuracy: 0.7390\n",
      "Epoch 78/120\n",
      "83/83 [==============================] - 1s 7ms/step - loss: 0.1156 - accuracy: 0.9631 - val_loss: 1.0786 - val_accuracy: 0.7561\n",
      "Epoch 79/120\n",
      "83/83 [==============================] - 1s 13ms/step - loss: 0.1139 - accuracy: 0.9646 - val_loss: 1.1084 - val_accuracy: 0.7448\n",
      "Epoch 80/120\n",
      "83/83 [==============================] - 1s 6ms/step - loss: 0.1103 - accuracy: 0.9658 - val_loss: 1.0934 - val_accuracy: 0.7533\n",
      "Epoch 81/120\n",
      "83/83 [==============================] - 1s 7ms/step - loss: 0.1096 - accuracy: 0.9665 - val_loss: 1.1259 - val_accuracy: 0.7438\n",
      "Epoch 82/120\n",
      "83/83 [==============================] - 1s 7ms/step - loss: 0.1098 - accuracy: 0.9653 - val_loss: 1.1285 - val_accuracy: 0.7437\n",
      "Epoch 83/120\n",
      "83/83 [==============================] - 1s 8ms/step - loss: 0.1054 - accuracy: 0.9684 - val_loss: 1.1763 - val_accuracy: 0.7207\n",
      "Epoch 84/120\n",
      "83/83 [==============================] - 1s 7ms/step - loss: 0.1069 - accuracy: 0.9652 - val_loss: 1.1316 - val_accuracy: 0.7598\n",
      "Epoch 85/120\n",
      "83/83 [==============================] - 1s 7ms/step - loss: 0.1049 - accuracy: 0.9665 - val_loss: 1.1635 - val_accuracy: 0.7424\n",
      "Epoch 86/120\n",
      "83/83 [==============================] - 1s 10ms/step - loss: 0.1010 - accuracy: 0.9688 - val_loss: 1.1532 - val_accuracy: 0.7596\n",
      "Epoch 87/120\n",
      "83/83 [==============================] - 1s 7ms/step - loss: 0.0970 - accuracy: 0.9710 - val_loss: 1.1842 - val_accuracy: 0.7346\n",
      "Epoch 88/120\n",
      "83/83 [==============================] - 1s 7ms/step - loss: 0.0969 - accuracy: 0.9710 - val_loss: 1.2483 - val_accuracy: 0.7146\n",
      "Epoch 89/120\n",
      "83/83 [==============================] - 1s 11ms/step - loss: 0.0947 - accuracy: 0.9717 - val_loss: 1.2390 - val_accuracy: 0.7231\n",
      "Epoch 90/120\n",
      "83/83 [==============================] - 1s 9ms/step - loss: 0.0924 - accuracy: 0.9721 - val_loss: 1.2053 - val_accuracy: 0.7681\n",
      "Epoch 91/120\n",
      "83/83 [==============================] - 1s 8ms/step - loss: 0.0913 - accuracy: 0.9732 - val_loss: 1.2558 - val_accuracy: 0.7314\n",
      "Epoch 92/120\n",
      "83/83 [==============================] - 1s 8ms/step - loss: 0.0885 - accuracy: 0.9746 - val_loss: 1.2561 - val_accuracy: 0.7274\n",
      "Epoch 93/120\n",
      "83/83 [==============================] - 1s 7ms/step - loss: 0.0883 - accuracy: 0.9727 - val_loss: 1.2693 - val_accuracy: 0.7272\n",
      "Epoch 94/120\n",
      "83/83 [==============================] - 1s 8ms/step - loss: 0.0851 - accuracy: 0.9750 - val_loss: 1.3116 - val_accuracy: 0.7209\n",
      "Epoch 95/120\n",
      "83/83 [==============================] - 1s 10ms/step - loss: 0.0849 - accuracy: 0.9749 - val_loss: 1.2702 - val_accuracy: 0.7425\n",
      "Epoch 96/120\n",
      "83/83 [==============================] - 1s 7ms/step - loss: 0.0820 - accuracy: 0.9760 - val_loss: 1.2766 - val_accuracy: 0.7524\n",
      "Epoch 97/120\n",
      "83/83 [==============================] - 1s 8ms/step - loss: 0.0777 - accuracy: 0.9791 - val_loss: 1.2850 - val_accuracy: 0.7401\n",
      "Epoch 98/120\n",
      "83/83 [==============================] - 0s 6ms/step - loss: 0.0774 - accuracy: 0.9783 - val_loss: 1.2994 - val_accuracy: 0.7477\n",
      "Epoch 99/120\n",
      "83/83 [==============================] - 0s 6ms/step - loss: 0.0759 - accuracy: 0.9785 - val_loss: 1.3068 - val_accuracy: 0.7583\n",
      "Epoch 100/120\n",
      "83/83 [==============================] - 1s 7ms/step - loss: 0.0754 - accuracy: 0.9788 - val_loss: 1.3075 - val_accuracy: 0.7494\n",
      "Epoch 101/120\n",
      "83/83 [==============================] - 1s 8ms/step - loss: 0.0739 - accuracy: 0.9795 - val_loss: 1.3521 - val_accuracy: 0.7412\n",
      "Epoch 102/120\n",
      "83/83 [==============================] - 1s 7ms/step - loss: 0.0713 - accuracy: 0.9805 - val_loss: 1.3486 - val_accuracy: 0.7359\n",
      "Epoch 103/120\n",
      "83/83 [==============================] - 0s 5ms/step - loss: 0.0697 - accuracy: 0.9808 - val_loss: 1.3584 - val_accuracy: 0.7451\n",
      "Epoch 104/120\n",
      "83/83 [==============================] - 0s 5ms/step - loss: 0.0701 - accuracy: 0.9802 - val_loss: 1.3488 - val_accuracy: 0.7542\n",
      "Epoch 105/120\n",
      "83/83 [==============================] - 0s 5ms/step - loss: 0.0671 - accuracy: 0.9818 - val_loss: 1.3940 - val_accuracy: 0.7407\n",
      "Epoch 106/120\n",
      "83/83 [==============================] - 1s 7ms/step - loss: 0.0650 - accuracy: 0.9823 - val_loss: 1.3953 - val_accuracy: 0.7464\n",
      "Epoch 107/120\n",
      "83/83 [==============================] - 1s 6ms/step - loss: 0.0650 - accuracy: 0.9829 - val_loss: 1.4119 - val_accuracy: 0.7379\n",
      "Epoch 108/120\n",
      "83/83 [==============================] - 0s 6ms/step - loss: 0.0645 - accuracy: 0.9820 - val_loss: 1.3989 - val_accuracy: 0.7555\n",
      "Epoch 109/120\n",
      "83/83 [==============================] - 1s 6ms/step - loss: 0.0639 - accuracy: 0.9820 - val_loss: 1.4188 - val_accuracy: 0.7492\n",
      "Epoch 110/120\n",
      "83/83 [==============================] - 1s 7ms/step - loss: 0.0602 - accuracy: 0.9853 - val_loss: 1.4382 - val_accuracy: 0.7538\n",
      "Epoch 111/120\n",
      "83/83 [==============================] - 0s 6ms/step - loss: 0.0592 - accuracy: 0.9859 - val_loss: 1.4432 - val_accuracy: 0.7490\n",
      "Epoch 112/120\n",
      "83/83 [==============================] - 0s 5ms/step - loss: 0.0585 - accuracy: 0.9855 - val_loss: 1.4673 - val_accuracy: 0.7535\n",
      "Epoch 113/120\n",
      "83/83 [==============================] - 0s 5ms/step - loss: 0.0550 - accuracy: 0.9869 - val_loss: 1.4722 - val_accuracy: 0.7531\n",
      "Epoch 114/120\n",
      "83/83 [==============================] - 0s 5ms/step - loss: 0.0533 - accuracy: 0.9877 - val_loss: 1.4746 - val_accuracy: 0.7553\n",
      "Epoch 115/120\n",
      "83/83 [==============================] - 0s 5ms/step - loss: 0.0557 - accuracy: 0.9862 - val_loss: 1.4953 - val_accuracy: 0.7496\n",
      "Epoch 116/120\n",
      "83/83 [==============================] - 0s 6ms/step - loss: 0.0534 - accuracy: 0.9876 - val_loss: 1.5069 - val_accuracy: 0.7572\n",
      "Epoch 117/120\n",
      "83/83 [==============================] - 1s 10ms/step - loss: 0.0525 - accuracy: 0.9875 - val_loss: 1.5860 - val_accuracy: 0.7305\n",
      "Epoch 118/120\n",
      "83/83 [==============================] - 1s 11ms/step - loss: 0.0518 - accuracy: 0.9872 - val_loss: 1.5316 - val_accuracy: 0.7627\n",
      "Epoch 119/120\n",
      "83/83 [==============================] - 1s 8ms/step - loss: 0.0485 - accuracy: 0.9892 - val_loss: 1.5713 - val_accuracy: 0.7466\n",
      "Epoch 120/120\n",
      "83/83 [==============================] - 1s 8ms/step - loss: 0.0491 - accuracy: 0.9890 - val_loss: 1.5727 - val_accuracy: 0.7457\n",
      "169/169 [==============================] - 1s 4ms/step\n"
     ]
    }
   ],
   "source": [
    "from imblearn.over_sampling import SMOTE\n",
    "from imblearn.combine import SMOTETomek\n",
    "from imblearn.over_sampling import ADASYN\n",
    "\n",
    "# Standardize the features (optional but recommended for neural networks)\n",
    "scaler = StandardScaler()\n",
    "X_train = scaler.fit_transform(X_train)\n",
    "X_test = scaler.transform(X_test)\n",
    "\n",
    "# Use SMOTE for handling imbalanced data\n",
    "smote = SMOTE(random_state=42)\n",
    "X_resampled, y_resampled = smote.fit_resample(X_train, y_train)\n",
    "\n",
    "\n",
    "# Build the neural network model\n",
    "model = Sequential()\n",
    "model.add(Dense(32, input_dim=X_resampled.shape[1], activation='relu'))\n",
    "model.add(Dense(64, activation='relu'))\n",
    "model.add(Dense(128, activation='relu'))  # Third hidden layer\n",
    "model.add(Dense(1, activation='sigmoid'))\n",
    "\n",
    "# Compile the model\n",
    "model.compile(loss='binary_crossentropy', optimizer='adam', metrics=['accuracy'])\n",
    "\n",
    "# Train the model on the resampled data\n",
    "model.fit(X_resampled, y_resampled, epochs=120, batch_size=256, validation_data=(X_test, y_test))\n",
    "\n",
    "# Make predictions on the test set\n",
    "y_pred = (model.predict(X_test) > 0.5).astype(int)\n",
    "\n",
    "# Evaluate the model\n",
    "\n"
   ]
  },
  {
   "cell_type": "code",
   "execution_count": 76,
   "id": "7b439335",
   "metadata": {},
   "outputs": [
    {
     "name": "stdout",
     "output_type": "stream",
     "text": [
      "Confusion Matrix new1:\n",
      "[[3783  805]\n",
      " [ 568  243]]\n"
     ]
    }
   ],
   "source": [
    "print(\"Confusion Matrix new1:\")\n",
    "print(confusion_matrix(y_test, y_pred))#3 layers 120 epoh bz 256"
   ]
  },
  {
   "cell_type": "code",
   "execution_count": null,
   "id": "4cf1645a",
   "metadata": {},
   "outputs": [],
   "source": []
  },
  {
   "cell_type": "code",
   "execution_count": 74,
   "id": "f4605850",
   "metadata": {},
   "outputs": [
    {
     "name": "stdout",
     "output_type": "stream",
     "text": [
      "Confusion Matrix new1:\n",
      "[[3276 1312]\n",
      " [ 454  357]]\n"
     ]
    }
   ],
   "source": [
    "print(\"Confusion Matrix new1:\")\n",
    "print(confusion_matrix(y_test, y_pred))#3 layers 10 epoh bz 8"
   ]
  },
  {
   "cell_type": "code",
   "execution_count": 72,
   "id": "9d2343ac",
   "metadata": {},
   "outputs": [
    {
     "name": "stdout",
     "output_type": "stream",
     "text": [
      "Confusion Matrix new1:\n",
      "[[3663  925]\n",
      " [ 558  253]]\n"
     ]
    }
   ],
   "source": [
    "print(\"Confusion Matrix new1:\")\n",
    "print(confusion_matrix(y_test, y_pred))#3 layers 120 epoh bz 36"
   ]
  },
  {
   "cell_type": "code",
   "execution_count": 70,
   "id": "22b1c12e",
   "metadata": {},
   "outputs": [
    {
     "name": "stdout",
     "output_type": "stream",
     "text": [
      "Confusion Matrix new1:\n",
      "[[3732  856]\n",
      " [ 573  238]]\n"
     ]
    }
   ],
   "source": [
    "print(\"Confusion Matrix new1:\")\n",
    "print(confusion_matrix(y_test, y_pred))#3 layers 120 epoh bz 128"
   ]
  },
  {
   "cell_type": "code",
   "execution_count": 64,
   "id": "110bce53",
   "metadata": {},
   "outputs": [
    {
     "name": "stdout",
     "output_type": "stream",
     "text": [
      "Confusion Matrix new1:\n",
      "[[3752  836]\n",
      " [ 569  242]]\n"
     ]
    }
   ],
   "source": [
    "print(\"Confusion Matrix new1:\")\n",
    "print(confusion_matrix(y_test, y_pred))#3 layers 100 epoh bz 256"
   ]
  },
  {
   "cell_type": "code",
   "execution_count": 62,
   "id": "cbef5a8a",
   "metadata": {},
   "outputs": [
    {
     "name": "stdout",
     "output_type": "stream",
     "text": [
      "Confusion Matrix new1:\n",
      "[[3699  889]\n",
      " [ 580  231]]\n"
     ]
    }
   ],
   "source": [
    "print(\"Confusion Matrix new1:\")\n",
    "print(confusion_matrix(y_test, y_pred))#3 layers 90 epoh bz 256"
   ]
  },
  {
   "cell_type": "code",
   "execution_count": 60,
   "id": "65f06a4d",
   "metadata": {},
   "outputs": [
    {
     "name": "stdout",
     "output_type": "stream",
     "text": [
      "Confusion Matrix new1:\n",
      "[[3794  794]\n",
      " [ 580  231]]\n"
     ]
    }
   ],
   "source": [
    "print(\"Confusion Matrix new1:\")\n",
    "print(confusion_matrix(y_test, y_pred))#3 layers 70 epoh bz 256"
   ]
  },
  {
   "cell_type": "code",
   "execution_count": 56,
   "id": "0dde8fe3",
   "metadata": {},
   "outputs": [
    {
     "name": "stdout",
     "output_type": "stream",
     "text": [
      "Confusion Matrix new1:\n",
      "[[3903  685]\n",
      " [ 607  204]]\n"
     ]
    }
   ],
   "source": [
    "print(\"Confusion Matrix new1:\")\n",
    "print(confusion_matrix(y_test, y_pred))#3 layers 50 epoh bs 256"
   ]
  },
  {
   "cell_type": "code",
   "execution_count": 52,
   "id": "5c6b5688",
   "metadata": {},
   "outputs": [
    {
     "name": "stdout",
     "output_type": "stream",
     "text": [
      "Confusion Matrix new1:\n",
      "[[3804  784]\n",
      " [ 571  240]]\n"
     ]
    }
   ],
   "source": [
    "print(\"Confusion Matrix new1:\")\n",
    "print(confusion_matrix(y_test, y_pred))#3 layers 1000 epch bs 256"
   ]
  },
  {
   "cell_type": "code",
   "execution_count": null,
   "id": "b34e5f57",
   "metadata": {},
   "outputs": [],
   "source": []
  }
 ],
 "metadata": {
  "kernelspec": {
   "display_name": "Python 3 (ipykernel)",
   "language": "python",
   "name": "python3"
  },
  "language_info": {
   "codemirror_mode": {
    "name": "ipython",
    "version": 3
   },
   "file_extension": ".py",
   "mimetype": "text/x-python",
   "name": "python",
   "nbconvert_exporter": "python",
   "pygments_lexer": "ipython3",
   "version": "3.8.18"
  }
 },
 "nbformat": 4,
 "nbformat_minor": 5
}
